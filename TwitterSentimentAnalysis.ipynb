{
 "cells": [
  {
   "cell_type": "code",
   "execution_count": 163,
   "metadata": {
    "id": "GxKJZjO7MVao"
   },
   "outputs": [],
   "source": [
    "import numpy as np\n",
    "import pandas as pd\n",
    "import re\n",
    "import nltk\n",
    "import seaborn as sns\n",
    "import matplotlib.pyplot as plt\n",
    "from nltk.corpus import stopwords\n",
    "from sklearn.feature_extraction.text import TfidfVectorizer\n",
    "from sklearn.linear_model import LogisticRegression\n",
    "from sklearn.preprocessing import LabelEncoder\n",
    "from sklearn.metrics import classification_report, confusion_matrix, accuracy_score\n",
    "from sklearn.model_selection import train_test_split"
   ]
  },
  {
   "cell_type": "code",
   "execution_count": 164,
   "metadata": {
    "id": "ljTzgQdPMVaz"
   },
   "outputs": [],
   "source": [
    "dataset = pd.read_csv('train.csv', encoding='latin')\n",
    "sample = pd.read_csv('test.csv', encoding='latin')"
   ]
  },
  {
   "cell_type": "code",
   "execution_count": 165,
   "metadata": {
    "colab": {
     "base_uri": "https://localhost:8080/",
     "height": 195
    },
    "id": "cXSaT1ZSMVa0",
    "outputId": "fb131d4b-8c6d-4c39-db7a-f3604d63db56"
   },
   "outputs": [
    {
     "data": {
      "text/html": [
       "<div>\n",
       "<style scoped>\n",
       "    .dataframe tbody tr th:only-of-type {\n",
       "        vertical-align: middle;\n",
       "    }\n",
       "\n",
       "    .dataframe tbody tr th {\n",
       "        vertical-align: top;\n",
       "    }\n",
       "\n",
       "    .dataframe thead th {\n",
       "        text-align: right;\n",
       "    }\n",
       "</style>\n",
       "<table border=\"1\" class=\"dataframe\">\n",
       "  <thead>\n",
       "    <tr style=\"text-align: right;\">\n",
       "      <th></th>\n",
       "      <th>UserName</th>\n",
       "      <th>ScreenName</th>\n",
       "      <th>Location</th>\n",
       "      <th>TweetAt</th>\n",
       "      <th>OriginalTweet</th>\n",
       "      <th>Sentiment</th>\n",
       "    </tr>\n",
       "  </thead>\n",
       "  <tbody>\n",
       "    <tr>\n",
       "      <th>0</th>\n",
       "      <td>3799</td>\n",
       "      <td>48751</td>\n",
       "      <td>London</td>\n",
       "      <td>16-03-2020</td>\n",
       "      <td>@MeNyrbie @Phil_Gahan @Chrisitv https://t.co/i...</td>\n",
       "      <td>Neutral</td>\n",
       "    </tr>\n",
       "    <tr>\n",
       "      <th>1</th>\n",
       "      <td>3800</td>\n",
       "      <td>48752</td>\n",
       "      <td>UK</td>\n",
       "      <td>16-03-2020</td>\n",
       "      <td>advice Talk to your neighbours family to excha...</td>\n",
       "      <td>Positive</td>\n",
       "    </tr>\n",
       "    <tr>\n",
       "      <th>2</th>\n",
       "      <td>3801</td>\n",
       "      <td>48753</td>\n",
       "      <td>Vagabonds</td>\n",
       "      <td>16-03-2020</td>\n",
       "      <td>Coronavirus Australia: Woolworths to give elde...</td>\n",
       "      <td>Positive</td>\n",
       "    </tr>\n",
       "    <tr>\n",
       "      <th>3</th>\n",
       "      <td>3802</td>\n",
       "      <td>48754</td>\n",
       "      <td>NaN</td>\n",
       "      <td>16-03-2020</td>\n",
       "      <td>My food stock is not the only one which is emp...</td>\n",
       "      <td>Positive</td>\n",
       "    </tr>\n",
       "    <tr>\n",
       "      <th>4</th>\n",
       "      <td>3803</td>\n",
       "      <td>48755</td>\n",
       "      <td>NaN</td>\n",
       "      <td>16-03-2020</td>\n",
       "      <td>Me, ready to go at supermarket during the #COV...</td>\n",
       "      <td>Extremely Negative</td>\n",
       "    </tr>\n",
       "  </tbody>\n",
       "</table>\n",
       "</div>"
      ],
      "text/plain": [
       "   UserName  ScreenName   Location     TweetAt  \\\n",
       "0      3799       48751     London  16-03-2020   \n",
       "1      3800       48752         UK  16-03-2020   \n",
       "2      3801       48753  Vagabonds  16-03-2020   \n",
       "3      3802       48754        NaN  16-03-2020   \n",
       "4      3803       48755        NaN  16-03-2020   \n",
       "\n",
       "                                       OriginalTweet           Sentiment  \n",
       "0  @MeNyrbie @Phil_Gahan @Chrisitv https://t.co/i...             Neutral  \n",
       "1  advice Talk to your neighbours family to excha...            Positive  \n",
       "2  Coronavirus Australia: Woolworths to give elde...            Positive  \n",
       "3  My food stock is not the only one which is emp...            Positive  \n",
       "4  Me, ready to go at supermarket during the #COV...  Extremely Negative  "
      ]
     },
     "execution_count": 165,
     "metadata": {},
     "output_type": "execute_result"
    }
   ],
   "source": [
    "dataset.head()"
   ]
  },
  {
   "cell_type": "code",
   "execution_count": 166,
   "metadata": {
    "colab": {
     "base_uri": "https://localhost:8080/",
     "height": 320
    },
    "id": "SeIGOO4tMVa2",
    "outputId": "1f278b83-6a8a-40ea-dcc7-7e1a54390ea6"
   },
   "outputs": [
    {
     "data": {
      "image/png": "[encoded data removed]",
      "text/plain": [
       "<Figure size 1080x360 with 1 Axes>"
      ]
     },
     "metadata": {
      "needs_background": "light"
     },
     "output_type": "display_data"
    }
   ],
   "source": [
    "plt.figure(figsize=(15,5))\n",
    "sns.countplot(x = dataset['Sentiment'].values)\n",
    "le = LabelEncoder()\n",
    "dataset['Sentiment'] = le.fit_transform(dataset['Sentiment'])"
   ]
  },
  {
   "cell_type": "code",
   "execution_count": 167,
   "metadata": {
    "colab": {
     "base_uri": "https://localhost:8080/",
     "height": 195
    },
    "id": "M2zqPHAJMVa3",
    "outputId": "6e9c223f-f787-4e0b-eb8e-c859cf1838a5"
   },
   "outputs": [
    {
     "data": {
      "text/html": [
       "<div>\n",
       "<style scoped>\n",
       "    .dataframe tbody tr th:only-of-type {\n",
       "        vertical-align: middle;\n",
       "    }\n",
       "\n",
       "    .dataframe tbody tr th {\n",
       "        vertical-align: top;\n",
       "    }\n",
       "\n",
       "    .dataframe thead th {\n",
       "        text-align: right;\n",
       "    }\n",
       "</style>\n",
       "<table border=\"1\" class=\"dataframe\">\n",
       "  <thead>\n",
       "    <tr style=\"text-align: right;\">\n",
       "      <th></th>\n",
       "      <th>UserName</th>\n",
       "      <th>ScreenName</th>\n",
       "      <th>Location</th>\n",
       "      <th>TweetAt</th>\n",
       "      <th>OriginalTweet</th>\n",
       "      <th>Sentiment</th>\n",
       "    </tr>\n",
       "  </thead>\n",
       "  <tbody>\n",
       "    <tr>\n",
       "      <th>0</th>\n",
       "      <td>3799</td>\n",
       "      <td>48751</td>\n",
       "      <td>London</td>\n",
       "      <td>16-03-2020</td>\n",
       "      <td>@MeNyrbie @Phil_Gahan @Chrisitv https://t.co/i...</td>\n",
       "      <td>3</td>\n",
       "    </tr>\n",
       "    <tr>\n",
       "      <th>1</th>\n",
       "      <td>3800</td>\n",
       "      <td>48752</td>\n",
       "      <td>UK</td>\n",
       "      <td>16-03-2020</td>\n",
       "      <td>advice Talk to your neighbours family to excha...</td>\n",
       "      <td>4</td>\n",
       "    </tr>\n",
       "    <tr>\n",
       "      <th>2</th>\n",
       "      <td>3801</td>\n",
       "      <td>48753</td>\n",
       "      <td>Vagabonds</td>\n",
       "      <td>16-03-2020</td>\n",
       "      <td>Coronavirus Australia: Woolworths to give elde...</td>\n",
       "      <td>4</td>\n",
       "    </tr>\n",
       "    <tr>\n",
       "      <th>3</th>\n",
       "      <td>3802</td>\n",
       "      <td>48754</td>\n",
       "      <td>NaN</td>\n",
       "      <td>16-03-2020</td>\n",
       "      <td>My food stock is not the only one which is emp...</td>\n",
       "      <td>4</td>\n",
       "    </tr>\n",
       "    <tr>\n",
       "      <th>4</th>\n",
       "      <td>3803</td>\n",
       "      <td>48755</td>\n",
       "      <td>NaN</td>\n",
       "      <td>16-03-2020</td>\n",
       "      <td>Me, ready to go at supermarket during the #COV...</td>\n",
       "      <td>0</td>\n",
       "    </tr>\n",
       "  </tbody>\n",
       "</table>\n",
       "</div>"
      ],
      "text/plain": [
       "   UserName  ScreenName   Location     TweetAt  \\\n",
       "0      3799       48751     London  16-03-2020   \n",
       "1      3800       48752         UK  16-03-2020   \n",
       "2      3801       48753  Vagabonds  16-03-2020   \n",
       "3      3802       48754        NaN  16-03-2020   \n",
       "4      3803       48755        NaN  16-03-2020   \n",
       "\n",
       "                                       OriginalTweet  Sentiment  \n",
       "0  @MeNyrbie @Phil_Gahan @Chrisitv https://t.co/i...          3  \n",
       "1  advice Talk to your neighbours family to excha...          4  \n",
       "2  Coronavirus Australia: Woolworths to give elde...          4  \n",
       "3  My food stock is not the only one which is emp...          4  \n",
       "4  Me, ready to go at supermarket during the #COV...          0  "
      ]
     },
     "execution_count": 167,
     "metadata": {},
     "output_type": "execute_result"
    }
   ],
   "source": [
    "dataset.head()"
   ]
  },
  {
   "cell_type": "code",
   "execution_count": 168,
   "metadata": {
    "id": "Yly4_ECaMVa3"
   },
   "outputs": [],
   "source": [
    "stop_word = stopwords.words('english')"
   ]
  },
  {
   "cell_type": "code",
   "execution_count": 169,
   "metadata": {
    "id": "AgxAYY1_MVa4"
   },
   "outputs": [],
   "source": [
    "def clean(text):\n",
    "    text = text.lower()\n",
    "    #remove urls\n",
    "    text = re.sub(r'http\\S+', \" \", text)\n",
    "    #remove mentions\n",
    "    text = re.sub(r'@\\w+',' ',text)\n",
    "    #remove hastags\n",
    "    text = re.sub(r'#\\w+', ' ', text)\n",
    "    #remove digits\n",
    "    text = re.sub(r'\\d+', ' ', text)\n",
    "    #remove html tags\n",
    "    text = re.sub('r<.*?>',' ', text)\n",
    "    #remove stop words \n",
    "    text = text.split()\n",
    "    text = \" \".join([word for word in text if not word in stop_word])\n",
    "    return text"
   ]
  },
  {
   "cell_type": "code",
   "execution_count": 170,
   "metadata": {
    "id": "iYef16GbMVa5"
   },
   "outputs": [],
   "source": [
    "dataset['OriginalTweet'] = dataset['OriginalTweet'].apply(lambda x: clean(x))\n",
    "sample['OriginalTweet'] = sample['OriginalTweet'].apply(lambda x: clean(x))"
   ]
  },
  {
   "cell_type": "code",
   "execution_count": 171,
   "metadata": {
    "colab": {
     "base_uri": "https://localhost:8080/",
     "height": 639
    },
    "id": "60FkTY08MVa5",
    "outputId": "22af6e2e-331a-4400-ee38-801b8af6b68e"
   },
   "outputs": [
    {
     "data": {
      "text/html": [
       "<div>\n",
       "<style scoped>\n",
       "    .dataframe tbody tr th:only-of-type {\n",
       "        vertical-align: middle;\n",
       "    }\n",
       "\n",
       "    .dataframe tbody tr th {\n",
       "        vertical-align: top;\n",
       "    }\n",
       "\n",
       "    .dataframe thead th {\n",
       "        text-align: right;\n",
       "    }\n",
       "</style>\n",
       "<table border=\"1\" class=\"dataframe\">\n",
       "  <thead>\n",
       "    <tr style=\"text-align: right;\">\n",
       "      <th></th>\n",
       "      <th>OriginalTweet</th>\n",
       "      <th>Sentiment</th>\n",
       "    </tr>\n",
       "  </thead>\n",
       "  <tbody>\n",
       "    <tr>\n",
       "      <th>0</th>\n",
       "      <td></td>\n",
       "      <td>3</td>\n",
       "    </tr>\n",
       "    <tr>\n",
       "      <th>1</th>\n",
       "      <td>advice talk neighbours family exchange phone n...</td>\n",
       "      <td>4</td>\n",
       "    </tr>\n",
       "    <tr>\n",
       "      <th>2</th>\n",
       "      <td>coronavirus australia: woolworths give elderly...</td>\n",
       "      <td>4</td>\n",
       "    </tr>\n",
       "    <tr>\n",
       "      <th>3</th>\n",
       "      <td>food stock one empty... please, panic, enough ...</td>\n",
       "      <td>4</td>\n",
       "    </tr>\n",
       "    <tr>\n",
       "      <th>4</th>\n",
       "      <td>me, ready go supermarket outbreak. i'm paranoi...</td>\n",
       "      <td>0</td>\n",
       "    </tr>\n",
       "    <tr>\n",
       "      <th>5</th>\n",
       "      <td>news regionâs first confirmed covid- case cam...</td>\n",
       "      <td>4</td>\n",
       "    </tr>\n",
       "    <tr>\n",
       "      <th>6</th>\n",
       "      <td>cashier grocery store sharing insights prove c...</td>\n",
       "      <td>4</td>\n",
       "    </tr>\n",
       "    <tr>\n",
       "      <th>7</th>\n",
       "      <td>supermarket today. buy toilet paper.</td>\n",
       "      <td>3</td>\n",
       "    </tr>\n",
       "    <tr>\n",
       "      <th>8</th>\n",
       "      <td>due covid- retail store classroom atlanta open...</td>\n",
       "      <td>4</td>\n",
       "    </tr>\n",
       "    <tr>\n",
       "      <th>9</th>\n",
       "      <td>corona prevention,we stop buy things cash use ...</td>\n",
       "      <td>2</td>\n",
       "    </tr>\n",
       "    <tr>\n",
       "      <th>10</th>\n",
       "      <td>month crowding supermarkets restaurants, howev...</td>\n",
       "      <td>3</td>\n",
       "    </tr>\n",
       "    <tr>\n",
       "      <th>11</th>\n",
       "      <td>due covid- situation, increased demand food pr...</td>\n",
       "      <td>1</td>\n",
       "    </tr>\n",
       "    <tr>\n",
       "      <th>12</th>\n",
       "      <td>caring community. letâs look less capable vil...</td>\n",
       "      <td>1</td>\n",
       "    </tr>\n",
       "    <tr>\n",
       "      <th>13</th>\n",
       "      <td>me: need stock food, i'll amazon deliver whate...</td>\n",
       "      <td>4</td>\n",
       "    </tr>\n",
       "    <tr>\n",
       "      <th>14</th>\n",
       "      <td>adara releases covid- resource center travel b...</td>\n",
       "      <td>4</td>\n",
       "    </tr>\n",
       "    <tr>\n",
       "      <th>15</th>\n",
       "      <td>lines grocery store unpredictable, eating safe...</td>\n",
       "      <td>4</td>\n",
       "    </tr>\n",
       "    <tr>\n",
       "      <th>16</th>\n",
       "      <td>????? ????? ????? ????? ?? ?????? ????? ??????...</td>\n",
       "      <td>3</td>\n",
       "    </tr>\n",
       "    <tr>\n",
       "      <th>17</th>\n",
       "      <td>mar russia consumer surveillance watchdog repo...</td>\n",
       "      <td>3</td>\n",
       "    </tr>\n",
       "    <tr>\n",
       "      <th>18</th>\n",
       "      <td>amazon glitch stymies whole foods, fresh groce...</td>\n",
       "      <td>1</td>\n",
       "    </tr>\n",
       "    <tr>\n",
       "      <th>19</th>\n",
       "      <td>struggling, please consider donating food bank...</td>\n",
       "      <td>4</td>\n",
       "    </tr>\n",
       "  </tbody>\n",
       "</table>\n",
       "</div>"
      ],
      "text/plain": [
       "                                        OriginalTweet  Sentiment\n",
       "0                                                              3\n",
       "1   advice talk neighbours family exchange phone n...          4\n",
       "2   coronavirus australia: woolworths give elderly...          4\n",
       "3   food stock one empty... please, panic, enough ...          4\n",
       "4   me, ready go supermarket outbreak. i'm paranoi...          0\n",
       "5   news regionâs first confirmed covid- case cam...          4\n",
       "6   cashier grocery store sharing insights prove c...          4\n",
       "7                supermarket today. buy toilet paper.          3\n",
       "8   due covid- retail store classroom atlanta open...          4\n",
       "9   corona prevention,we stop buy things cash use ...          2\n",
       "10  month crowding supermarkets restaurants, howev...          3\n",
       "11  due covid- situation, increased demand food pr...          1\n",
       "12  caring community. letâs look less capable vil...          1\n",
       "13  me: need stock food, i'll amazon deliver whate...          4\n",
       "14  adara releases covid- resource center travel b...          4\n",
       "15  lines grocery store unpredictable, eating safe...          4\n",
       "16  ????? ????? ????? ????? ?? ?????? ????? ??????...          3\n",
       "17  mar russia consumer surveillance watchdog repo...          3\n",
       "18  amazon glitch stymies whole foods, fresh groce...          1\n",
       "19  struggling, please consider donating food bank...          4"
      ]
     },
     "execution_count": 171,
     "metadata": {},
     "output_type": "execute_result"
    }
   ],
   "source": [
    "dataset = dataset.iloc[:,4:]\n",
    "dataset.head(20)"
   ]
  },
  {
   "cell_type": "code",
   "execution_count": 172,
   "metadata": {
    "colab": {
     "base_uri": "https://localhost:8080/"
    },
    "id": "sQ5qiJcAMVa6",
    "outputId": "e0e0d06e-4fe8-40ef-98c7-d4e459e5a15a"
   },
   "outputs": [
    {
     "name": "stdout",
     "output_type": "stream",
     "text": [
      "(41157,) (41157,) (3798, 5)\n"
     ]
    }
   ],
   "source": [
    "X = dataset['OriginalTweet']\n",
    "y = dataset['Sentiment']\n",
    "print(X.shape,y.shape,sample.shape)"
   ]
  },
  {
   "cell_type": "code",
   "execution_count": 173,
   "metadata": {
    "colab": {
     "base_uri": "https://localhost:8080/"
    },
    "id": "9gs3Lf6UMVa7",
    "outputId": "9de1316d-b94a-48b4-87f2-d6b4ec68734e"
   },
   "outputs": [
    {
     "name": "stdout",
     "output_type": "stream",
     "text": [
      "X_train :  (32925, 10000)\n",
      "X_test  :  (8232, 10000)\n",
      "Y_train :  (32925,)\n",
      "Y_test  :  (8232,)\n"
     ]
    }
   ],
   "source": [
    "model = [\"Logistic Regression\",\"Random Forest\"]\n",
    "acc = []\n",
    "tfidf = TfidfVectorizer(max_features=10000, ngram_range=(1,2))\n",
    "X = tfidf.fit_transform(X)\n",
    "x_train, x_test, y_train, y_test = train_test_split(X, y, test_size=0.20, random_state=0)\n",
    "print(\"X_train : \", x_train.shape)\n",
    "print(\"X_test  : \", x_test.shape)\n",
    "print(\"Y_train : \", y_train.shape)\n",
    "print(\"Y_test  : \", y_test.shape)"
   ]
  },
  {
   "cell_type": "code",
   "execution_count": 174,
   "metadata": {
    "colab": {
     "base_uri": "https://localhost:8080/"
    },
    "id": "PqonMn4Ud4Qy",
    "outputId": "4a058c4e-1553-454e-9cba-cb855f6350c8"
   },
   "outputs": [
    {
     "name": "stdout",
     "output_type": "stream",
     "text": [
      "Training accuracy Score    :  0.7694457099468489\n",
      "Validation accuracy Score  :  0.5805393586005831\n",
      "Classification report\n",
      "               precision    recall  f1-score   support\n",
      "\n",
      "           0       0.48      0.64      0.55       817\n",
      "           1       0.53      0.68      0.59      1028\n",
      "           2       0.53      0.52      0.52      2004\n",
      "           3       0.70      0.65      0.67      1666\n",
      "           4       0.63      0.53      0.57      2717\n",
      "\n",
      "    accuracy                           0.58      8232\n",
      "   macro avg       0.57      0.60      0.58      8232\n",
      "weighted avg       0.59      0.58      0.58      8232\n",
      "\n"
     ]
    }
   ],
   "source": [
    "lr_clf = LogisticRegression(max_iter=10000)\n",
    "lr_clf.fit(x_train,y_train)\n",
    "y_pred = lr_clf.predict(x_test)\n",
    "lr_accuracy = accuracy_score(y_test,y_pred)\n",
    "acc.append(lr_accuracy)\n",
    "print(\"Training accuracy Score    : \",lr_clf.score(x_train,y_train))\n",
    "print(\"Validation accuracy Score  : \",lr_accuracy)\n",
    "print(\"Classification report\\n\",classification_report(y_pred,y_test))"
   ]
  },
  {
   "cell_type": "code",
   "execution_count": 175,
   "metadata": {},
   "outputs": [
    {
     "data": {
      "text/plain": [
       "array([[ 522,   14,  444,   42,   72],\n",
       "       [   4,  699,   39,   34,  555],\n",
       "       [ 244,   49, 1047,  250,  396],\n",
       "       [  12,   11,  170, 1075,  258],\n",
       "       [  35,  255,  304,  265, 1436]], dtype=int64)"
      ]
     },
     "execution_count": 175,
     "metadata": {},
     "output_type": "execute_result"
    }
   ],
   "source": [
    "confusion_matrix(y_test, y_pred)"
   ]
  },
  {
   "cell_type": "code",
   "execution_count": 176,
   "metadata": {},
   "outputs": [
    {
     "name": "stdout",
     "output_type": "stream",
     "text": [
      "Training accuracy Score    :  0.9994836750189825\n",
      "Validation accuracy Score :  0.5468901846452867\n",
      "              precision    recall  f1-score   support\n",
      "\n",
      "           0       0.44      0.63      0.52       773\n",
      "           1       0.44      0.63      0.52       941\n",
      "           2       0.48      0.52      0.50      1829\n",
      "           3       0.75      0.58      0.65      1967\n",
      "           4       0.58      0.49      0.53      2722\n",
      "\n",
      "    accuracy                           0.55      8232\n",
      "   macro avg       0.54      0.57      0.54      8232\n",
      "weighted avg       0.57      0.55      0.55      8232\n",
      "\n"
     ]
    }
   ],
   "source": [
    "from sklearn.ensemble import RandomForestClassifier\n",
    "\n",
    "rf_clf = RandomForestClassifier()\n",
    "\n",
    "rf_clf.fit(x_train,y_train)\n",
    "\n",
    "rf_prediction = rf_clf.predict(x_test)\n",
    "rf_accuracy = accuracy_score(y_test,rf_prediction)\n",
    "acc.append(rf_accuracy)\n",
    "print(\"Training accuracy Score    : \",rf_clf.score(x_train,y_train))\n",
    "print(\"Validation accuracy Score : \",rf_accuracy )\n",
    "print(classification_report(rf_prediction,y_test))"
   ]
  },
  {
   "cell_type": "code",
   "execution_count": 177,
   "metadata": {},
   "outputs": [
    {
     "data": {
      "text/plain": [
       "array([[ 484,   27,  376,   72,  135],\n",
       "       [   9,  591,   67,   55,  609],\n",
       "       [ 205,   60,  947,  341,  433],\n",
       "       [  18,   13,  146, 1142,  207],\n",
       "       [  57,  250,  293,  357, 1338]], dtype=int64)"
      ]
     },
     "execution_count": 177,
     "metadata": {},
     "output_type": "execute_result"
    }
   ],
   "source": [
    "confusion_matrix(y_test,rf_prediction)"
   ]
  },
  {
   "cell_type": "code",
   "execution_count": 178,
   "metadata": {
    "colab": {
     "base_uri": "https://localhost:8080/"
    },
    "id": "ZWVD9A8AWBG8",
    "outputId": "cad14c48-3417-4c7d-ca24-aef7df1f90eb"
   },
   "outputs": [
    {
     "name": "stdout",
     "output_type": "stream",
     "text": [
      "['Neutral' 'Neutral' 'Positive' ... 'Neutral' 'Neutral' 'Negative']\n"
     ]
    }
   ],
   "source": [
    "Samp = sample['OriginalTweet']\n",
    "tfidf = TfidfVectorizer(max_features=10000, ngram_range=(1,2))\n",
    "Samp = tfidf.fit_transform(Samp)\n",
    "output = lr_clf.predict(Samp)\n",
    "output = le.inverse_transform(output)\n",
    "print(output)"
   ]
  },
  {
   "cell_type": "code",
   "execution_count": 179,
   "metadata": {
    "id": "ozWLnIiIXuf2"
   },
   "outputs": [],
   "source": [
    "rows=[]\n",
    "k=0\n",
    "for i in sample['UserName'].values:\n",
    "  temp=[]\n",
    "  temp.append(i)\n",
    "  temp.append(output[k])\n",
    "  k+=1\n",
    "  rows.append(temp)"
   ]
  },
  {
   "cell_type": "code",
   "execution_count": 185,
   "metadata": {
    "colab": {
     "base_uri": "https://localhost:8080/"
    },
    "id": "6czxEJvyXv4O",
    "outputId": "8cf031ed-9819-47e6-ee52-932113fccd71",
    "scrolled": true
   },
   "outputs": [
    {
     "name": "stdout",
     "output_type": "stream",
     "text": [
      "[1, 'Neutral']\n",
      "[2, 'Neutral']\n",
      "[3, 'Positive']\n",
      "[4, 'Neutral']\n",
      "[5, 'Neutral']\n",
      "[6, 'Neutral']\n",
      "[7, 'Neutral']\n",
      "[8, 'Positive']\n",
      "[9, 'Neutral']\n",
      "[10, 'Neutral']\n",
      "[11, 'Negative']\n",
      "[12, 'Positive']\n",
      "[13, 'Positive']\n",
      "[14, 'Extremely Positive']\n",
      "[15, 'Negative']\n",
      "[16, 'Neutral']\n",
      "[17, 'Negative']\n",
      "[18, 'Positive']\n",
      "[19, 'Neutral']\n",
      "[20, 'Neutral']\n",
      "[21, 'Neutral']\n",
      "[22, 'Neutral']\n",
      "[23, 'Positive']\n",
      "[24, 'Negative']\n",
      "[25, 'Positive']\n",
      "3798\n"
     ]
    }
   ],
   "source": [
    "for i in range(25):\n",
    "  print(rows[i])\n",
    "print(len(rows))\n",
    "import csv\n",
    "fields = ['UserName','Sentiment']\n",
    "filename = \"Output.csv\"\n",
    "\n",
    "with open(filename, 'w',newline=\"\") as csvfile: \n",
    "    csvwriter = csv.writer(csvfile) \n",
    "    csvwriter.writerow(fields)\n",
    "    csvwriter.writerows(rows)"
   ]
  },
  {
   "cell_type": "code",
   "execution_count": 190,
   "metadata": {
    "id": "uqvpf1ebaaLW"
   },
   "outputs": [],
   "source": [
    "result = pd.read_csv('Output.csv')"
   ]
  },
  {
   "cell_type": "code",
   "execution_count": 191,
   "metadata": {
    "colab": {
     "base_uri": "https://localhost:8080/",
     "height": 282
    },
    "id": "frgrqZY7aokh",
    "outputId": "8ad45273-8a37-47f3-97ca-35984823c02e"
   },
   "outputs": [
    {
     "data": {
      "text/plain": [
       "<AxesSubplot:ylabel='count'>"
      ]
     },
     "execution_count": 191,
     "metadata": {},
     "output_type": "execute_result"
    },
    {
     "data": {
      "image/png": "[encoded data removed]",
      "text/plain": [
       "<Figure size 1080x360 with 1 Axes>"
      ]
     },
     "metadata": {
      "needs_background": "light"
     },
     "output_type": "display_data"
    }
   ],
   "source": [
    "plt.figure(figsize=(15,5))\n",
    "sns.countplot(x = result['Sentiment'].values)"
   ]
  },
  {
   "cell_type": "code",
   "execution_count": null,
   "metadata": {},
   "outputs": [],
   "source": []
  }
 ],
 "metadata": {
  "accelerator": "GPU",
  "colab": {
   "collapsed_sections": [],
   "name": "Twitter_Sentiment_Analysis.ipynb",
   "provenance": []
  },
  "kernelspec": {
   "display_name": "Python 3",
   "language": "python",
   "name": "python3"
  },
  "language_info": {
   "codemirror_mode": {
    "name": "ipython",
    "version": 3
   },
   "file_extension": ".py",
   "mimetype": "text/x-python",
   "name": "python",
   "nbconvert_exporter": "python",
   "pygments_lexer": "ipython3",
   "version": "3.8.5"
  }
 },
 "nbformat": 4,
 "nbformat_minor": 1
}
